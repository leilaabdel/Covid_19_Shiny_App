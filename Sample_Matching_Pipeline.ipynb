{
  "nbformat": 4,
  "nbformat_minor": 0,
  "metadata": {
    "colab": {
      "name": "Sample_Matching_Pipeline.ipynb",
      "provenance": [],
      "collapsed_sections": [],
      "include_colab_link": true
    },
    "kernelspec": {
      "name": "python3",
      "display_name": "Python 3"
    }
  },
  "cells": [
    {
      "cell_type": "markdown",
      "metadata": {
        "id": "view-in-github",
        "colab_type": "text"
      },
      "source": [
        "<a href=\"https://colab.research.google.com/github/lxa215/Covid_19_Shiny_App/blob/master/Sample_Matching_Pipeline.ipynb\" target=\"_parent\"><img src=\"https://colab.research.google.com/assets/colab-badge.svg\" alt=\"Open In Colab\"/></a>"
      ]
    },
    {
      "cell_type": "code",
      "metadata": {
        "id": "nnn1StEPAiKH",
        "colab_type": "code",
        "colab": {
          "base_uri": "https://localhost:8080/",
          "height": 122
        },
        "outputId": "cc5f0ffb-2ebc-4daf-9026-17a139647363"
      },
      "source": [
        "# Imports\n",
        "\n",
        "import pandas as pd\n",
        "import os\n",
        "import numpy as np\n",
        "\n",
        "from google.colab import drive\n",
        "drive.mount('/content/drive')"
      ],
      "execution_count": 2,
      "outputs": [
        {
          "output_type": "stream",
          "text": [
            "Go to this URL in a browser: https://accounts.google.com/o/oauth2/auth?client_id=947318989803-6bn6qk8qdgf4n4g3pfee6491hc0brc4i.apps.googleusercontent.com&redirect_uri=urn%3aietf%3awg%3aoauth%3a2.0%3aoob&response_type=code&scope=email%20https%3a%2f%2fwww.googleapis.com%2fauth%2fdocs.test%20https%3a%2f%2fwww.googleapis.com%2fauth%2fdrive%20https%3a%2f%2fwww.googleapis.com%2fauth%2fdrive.photos.readonly%20https%3a%2f%2fwww.googleapis.com%2fauth%2fpeopleapi.readonly\n",
            "\n",
            "Enter your authorization code:\n",
            "··········\n",
            "Mounted at /content/drive\n"
          ],
          "name": "stdout"
        }
      ]
    },
    {
      "cell_type": "code",
      "metadata": {
        "id": "XFrlO2eM9I-G",
        "colab_type": "code",
        "colab": {
          "base_uri": "https://localhost:8080/",
          "height": 51
        },
        "outputId": "52fddd74-d4ff-4e93-e26e-b366239d8652"
      },
      "source": [
        "# Retrieve the CONFIDENTIAL patient dataset with test results\n",
        "\n",
        "# You must mount your drive if you have access to the ***CONFIDENTIAL PATIENT TEST RESULTS***\n",
        "test_result_array = []\n",
        "test_results_path = \"./drive/My Drive/patient-test-results/pcr-result\"\n",
        "\n",
        "for dirpath, dnames, fnames in os.walk(test_results_path):\n",
        "    for f in fnames:\n",
        "        if f.endswith(\".csv\"):\n",
        "            print(f)\n",
        "            file_path = os.path.join(test_results_path, f)\n",
        "            test_result_array += [pd.read_csv(file_path)] # Converts to a dataframe\n",
        "   \n",
        "\n",
        "\n"
      ],
      "execution_count": 25,
      "outputs": [
        {
          "output_type": "stream",
          "text": [
            "COVID-19 14-04-2020.xlsx - Sheet1.csv\n",
            "COVID-19 13-04-2020 (sanitized).csv\n"
          ],
          "name": "stdout"
        }
      ]
    },
    {
      "cell_type": "code",
      "metadata": {
        "id": "ULdlNGnrJ7RP",
        "colab_type": "code",
        "colab": {
          "base_uri": "https://localhost:8080/",
          "height": 255
        },
        "outputId": "f87d814e-e7ca-4407-82f9-4f04798c7cef"
      },
      "source": [
        "# Read the Patient Raw Data \n",
        "\n",
        "# Retrieve the JSON\n",
        "!wget --user 'lambda' --password 'W$RCc&cmQ^n!b4k' 'https://detect-now.org/pakistan/url/org/admin_access_data'\n",
        "\n"
      ],
      "execution_count": 9,
      "outputs": [
        {
          "output_type": "stream",
          "text": [
            "--2020-04-15 18:06:55--  https://detect-now.org/pakistan/url/org/admin_access_data\n",
            "Resolving detect-now.org (detect-now.org)... 52.178.92.96\n",
            "Connecting to detect-now.org (detect-now.org)|52.178.92.96|:443... connected.\n",
            "HTTP request sent, awaiting response... 401 UNAUTHORIZED\n",
            "Authentication selected: Basic realm=\"Login Required\"\n",
            "Reusing existing connection to detect-now.org:443.\n",
            "HTTP request sent, awaiting response... 200 OK\n",
            "Length: 33649 (33K) [application/json]\n",
            "Saving to: ‘admin_access_data’\n",
            "\n",
            "admin_access_data   100%[===================>]  32.86K   145KB/s    in 0.2s    \n",
            "\n",
            "2020-04-15 18:06:57 (145 KB/s) - ‘admin_access_data’ saved [33649/33649]\n",
            "\n"
          ],
          "name": "stdout"
        }
      ]
    },
    {
      "cell_type": "code",
      "metadata": {
        "id": "Ufl6ZboF_3Fs",
        "colab_type": "code",
        "colab": {}
      },
      "source": [
        ""
      ],
      "execution_count": 0,
      "outputs": []
    },
    {
      "cell_type": "code",
      "metadata": {
        "id": "D-epXEfuL3z5",
        "colab_type": "code",
        "colab": {
          "base_uri": "https://localhost:8080/",
          "height": 343
        },
        "outputId": "b7312fad-901c-43af-9cd5-bd4b23116451"
      },
      "source": [
        "# Convert to a df\n",
        "\n",
        "json_df = pd.read_json(r'/content/admin_access_data')\n",
        "json_df.head()\n"
      ],
      "execution_count": 26,
      "outputs": [
        {
          "output_type": "execute_result",
          "data": {
            "text/html": [
              "<div>\n",
              "<style scoped>\n",
              "    .dataframe tbody tr th:only-of-type {\n",
              "        vertical-align: middle;\n",
              "    }\n",
              "\n",
              "    .dataframe tbody tr th {\n",
              "        vertical-align: top;\n",
              "    }\n",
              "\n",
              "    .dataframe thead th {\n",
              "        text-align: right;\n",
              "    }\n",
              "</style>\n",
              "<table border=\"1\" class=\"dataframe\">\n",
              "  <thead>\n",
              "    <tr style=\"text-align: right;\">\n",
              "      <th></th>\n",
              "      <th>age</th>\n",
              "      <th>consent</th>\n",
              "      <th>corona_test</th>\n",
              "      <th>cough_filename</th>\n",
              "      <th>gender</th>\n",
              "      <th>medical_history</th>\n",
              "      <th>patientID</th>\n",
              "      <th>patient_id</th>\n",
              "      <th>patient_reported_symptoms</th>\n",
              "      <th>sampleType</th>\n",
              "      <th>data_t</th>\n",
              "      <th>smoker</th>\n",
              "      <th>video_patient_finder_tip_filename</th>\n",
              "      <th>breathe_filename</th>\n",
              "      <th>patient_smartphone_used_for_data_collection</th>\n",
              "    </tr>\n",
              "  </thead>\n",
              "  <tbody>\n",
              "    <tr>\n",
              "      <th>0</th>\n",
              "      <td>41 - 55</td>\n",
              "      <td>yes</td>\n",
              "      <td>Negative</td>\n",
              "      <td>https://detectnowdatalake.blob.core.windows.ne...</td>\n",
              "      <td>male</td>\n",
              "      <td>Diabetes with complications,</td>\n",
              "      <td>DMC-202</td>\n",
              "      <td>637</td>\n",
              "      <td>Fever, chills, or sweating,New or worsening co...</td>\n",
              "      <td>study</td>\n",
              "      <td>NaN</td>\n",
              "      <td>NaN</td>\n",
              "      <td>NaN</td>\n",
              "      <td>NaN</td>\n",
              "      <td>NaN</td>\n",
              "    </tr>\n",
              "    <tr>\n",
              "      <th>1</th>\n",
              "      <td>31 - 40</td>\n",
              "      <td>yes</td>\n",
              "      <td>Not Tested</td>\n",
              "      <td>https://detectnowdatalake.blob.core.windows.ne...</td>\n",
              "      <td>female</td>\n",
              "      <td>Disease or conditions that make it harder to c...</td>\n",
              "      <td>20030511135111357902</td>\n",
              "      <td>648</td>\n",
              "      <td>New or worsening cough,Sore throat,</td>\n",
              "      <td>study</td>\n",
              "      <td>NaN</td>\n",
              "      <td>NaN</td>\n",
              "      <td>NaN</td>\n",
              "      <td>NaN</td>\n",
              "      <td>NaN</td>\n",
              "    </tr>\n",
              "    <tr>\n",
              "      <th>2</th>\n",
              "      <td>31 - 40</td>\n",
              "      <td>yes</td>\n",
              "      <td>Not Tested</td>\n",
              "      <td>https://detectnowdatalake.blob.core.windows.ne...</td>\n",
              "      <td>male</td>\n",
              "      <td></td>\n",
              "      <td>200413111464227</td>\n",
              "      <td>649</td>\n",
              "      <td>Fever, chills, or sweating,</td>\n",
              "      <td>study</td>\n",
              "      <td>NaN</td>\n",
              "      <td>NaN</td>\n",
              "      <td>NaN</td>\n",
              "      <td>NaN</td>\n",
              "      <td>NaN</td>\n",
              "    </tr>\n",
              "    <tr>\n",
              "      <th>3</th>\n",
              "      <td>18 - 30</td>\n",
              "      <td>yes</td>\n",
              "      <td>Not Tested</td>\n",
              "      <td>https://detectnowdatalake.blob.core.windows.ne...</td>\n",
              "      <td>male</td>\n",
              "      <td></td>\n",
              "      <td>200413111464200</td>\n",
              "      <td>650</td>\n",
              "      <td></td>\n",
              "      <td>guest</td>\n",
              "      <td>NaN</td>\n",
              "      <td>NaN</td>\n",
              "      <td>NaN</td>\n",
              "      <td>NaN</td>\n",
              "      <td>NaN</td>\n",
              "    </tr>\n",
              "    <tr>\n",
              "      <th>4</th>\n",
              "      <td>31 - 40</td>\n",
              "      <td>yes</td>\n",
              "      <td>Not Tested</td>\n",
              "      <td>https://detectnowdatalake.blob.core.windows.ne...</td>\n",
              "      <td>male</td>\n",
              "      <td></td>\n",
              "      <td>200413111463989</td>\n",
              "      <td>652</td>\n",
              "      <td>New or worsening cough,Loss of taste,Loss of s...</td>\n",
              "      <td>study</td>\n",
              "      <td>NaN</td>\n",
              "      <td>NaN</td>\n",
              "      <td>NaN</td>\n",
              "      <td>NaN</td>\n",
              "      <td>NaN</td>\n",
              "    </tr>\n",
              "  </tbody>\n",
              "</table>\n",
              "</div>"
            ],
            "text/plain": [
              "       age consent  ... breathe_filename patient_smartphone_used_for_data_collection\n",
              "0  41 - 55     yes  ...              NaN                                         NaN\n",
              "1  31 - 40     yes  ...              NaN                                         NaN\n",
              "2  31 - 40     yes  ...              NaN                                         NaN\n",
              "3  18 - 30     yes  ...              NaN                                         NaN\n",
              "4  31 - 40     yes  ...              NaN                                         NaN\n",
              "\n",
              "[5 rows x 15 columns]"
            ]
          },
          "metadata": {
            "tags": []
          },
          "execution_count": 26
        }
      ]
    },
    {
      "cell_type": "code",
      "metadata": {
        "id": "V5i8rK4R9OMQ",
        "colab_type": "code",
        "colab": {
          "base_uri": "https://localhost:8080/",
          "height": 306
        },
        "outputId": "a77269d4-d05d-4d52-84b4-db2bc29bd9ab"
      },
      "source": [
        "#TO DO: iterate through all the files provided by the hospital for matching\n",
        "\n",
        "\n",
        "daily_df_hospital = test_result_array[0]\n",
        "daily_df_hospital.head()"
      ],
      "execution_count": 27,
      "outputs": [
        {
          "output_type": "execute_result",
          "data": {
            "text/html": [
              "<div>\n",
              "<style scoped>\n",
              "    .dataframe tbody tr th:only-of-type {\n",
              "        vertical-align: middle;\n",
              "    }\n",
              "\n",
              "    .dataframe tbody tr th {\n",
              "        vertical-align: top;\n",
              "    }\n",
              "\n",
              "    .dataframe thead th {\n",
              "        text-align: right;\n",
              "    }\n",
              "</style>\n",
              "<table border=\"1\" class=\"dataframe\">\n",
              "  <thead>\n",
              "    <tr style=\"text-align: right;\">\n",
              "      <th></th>\n",
              "      <th>Unnamed: 0</th>\n",
              "      <th>Unnamed: 1</th>\n",
              "      <th>COVID DATA 14/04/2020</th>\n",
              "      <th>Unnamed: 3</th>\n",
              "      <th>Unnamed: 4</th>\n",
              "      <th>Unnamed: 5</th>\n",
              "      <th>Unnamed: 6</th>\n",
              "      <th>Unnamed: 7</th>\n",
              "      <th>Unnamed: 8</th>\n",
              "      <th>Unnamed: 9</th>\n",
              "      <th>Unnamed: 10</th>\n",
              "    </tr>\n",
              "  </thead>\n",
              "  <tbody>\n",
              "    <tr>\n",
              "      <th>0</th>\n",
              "      <td>S.NO</td>\n",
              "      <td>LAB No</td>\n",
              "      <td>MR No</td>\n",
              "      <td>INVOCE</td>\n",
              "      <td>NAME</td>\n",
              "      <td>AGE</td>\n",
              "      <td>GENDER</td>\n",
              "      <td>CoV-2 PCR Result</td>\n",
              "      <td>DATE</td>\n",
              "      <td>Contact No</td>\n",
              "      <td>NaN</td>\n",
              "    </tr>\n",
              "    <tr>\n",
              "      <th>1</th>\n",
              "      <td>2056</td>\n",
              "      <td>8016252911</td>\n",
              "      <td>200413-111465599</td>\n",
              "      <td>111625291</td>\n",
              "      <td>AZHAR HUSSAIN</td>\n",
              "      <td>29</td>\n",
              "      <td>MALE</td>\n",
              "      <td>NOT DETECTED</td>\n",
              "      <td>13/04/2020</td>\n",
              "      <td>3000732059</td>\n",
              "      <td>NaN</td>\n",
              "    </tr>\n",
              "    <tr>\n",
              "      <th>2</th>\n",
              "      <td>2057</td>\n",
              "      <td>8016252561</td>\n",
              "      <td>200413-111465593</td>\n",
              "      <td>111625256</td>\n",
              "      <td>DR MUKHTIAR AHMED</td>\n",
              "      <td>40</td>\n",
              "      <td>MALE</td>\n",
              "      <td>NOT DETECTED</td>\n",
              "      <td>13/04/2020</td>\n",
              "      <td>3331373971</td>\n",
              "      <td>NaN</td>\n",
              "    </tr>\n",
              "    <tr>\n",
              "      <th>3</th>\n",
              "      <td>2058</td>\n",
              "      <td>8016253911</td>\n",
              "      <td>200413-111465629</td>\n",
              "      <td>111625391</td>\n",
              "      <td>DR SYED MAZHAR HUSSSAIN</td>\n",
              "      <td>36</td>\n",
              "      <td>MALE</td>\n",
              "      <td>NOT DETECTED</td>\n",
              "      <td>13/04/2020</td>\n",
              "      <td>3333022032</td>\n",
              "      <td>NaN</td>\n",
              "    </tr>\n",
              "    <tr>\n",
              "      <th>4</th>\n",
              "      <td>2059</td>\n",
              "      <td>8016252561</td>\n",
              "      <td>200413-111465593</td>\n",
              "      <td>111625256</td>\n",
              "      <td>DR. AMBREEN</td>\n",
              "      <td>40</td>\n",
              "      <td>FEMALE</td>\n",
              "      <td>NOT DETECTED</td>\n",
              "      <td>13/04/2020</td>\n",
              "      <td>3331373971</td>\n",
              "      <td>NaN</td>\n",
              "    </tr>\n",
              "  </tbody>\n",
              "</table>\n",
              "</div>"
            ],
            "text/plain": [
              "  Unnamed: 0  Unnamed: 1  ...  Unnamed: 9 Unnamed: 10\n",
              "0       S.NO      LAB No  ...  Contact No         NaN\n",
              "1       2056  8016252911  ...  3000732059         NaN\n",
              "2       2057  8016252561  ...  3331373971         NaN\n",
              "3       2058  8016253911  ...  3333022032         NaN\n",
              "4       2059  8016252561  ...  3331373971         NaN\n",
              "\n",
              "[5 rows x 11 columns]"
            ]
          },
          "metadata": {
            "tags": []
          },
          "execution_count": 27
        }
      ]
    },
    {
      "cell_type": "code",
      "metadata": {
        "id": "nHJmBtsgIG2Q",
        "colab_type": "code",
        "colab": {
          "base_uri": "https://localhost:8080/",
          "height": 122
        },
        "outputId": "6c0008d2-855a-4901-bf88-d7df7a08fa20"
      },
      "source": [
        "# Code to count the number of matches!\n",
        "\n",
        "#TO DO: iterate through all the files provided by the hospital for matching\n",
        "\n",
        "counter = 0\n",
        "match_counter = 0\n",
        "\n",
        "for patient_id in json_df['patientID']:\n",
        "  counter_1 = 0\n",
        "  for patient_id_2 in daily_df['COVID DATA 14/04/2020']: #Change the date column \n",
        "    patient_id = str(patient_id).replace('-' , '')\n",
        "    patient_id_2 = str(patient_id_2).replace('-' , '')\n",
        "    if patient_id == patient_id_2:\n",
        "      json_df['corona_test'][counter] = daily_df_hospital['Unnamed: 7'][counter_1] # Change the result column \n",
        "      match_counter += 1\n",
        "    counter_1 += 1\n",
        "  counter += 1\n",
        " \n",
        "\n",
        "\n"
      ],
      "execution_count": 31,
      "outputs": [
        {
          "output_type": "stream",
          "text": [
            "/usr/local/lib/python3.6/dist-packages/ipykernel_launcher.py:11: SettingWithCopyWarning: \n",
            "A value is trying to be set on a copy of a slice from a DataFrame\n",
            "\n",
            "See the caveats in the documentation: https://pandas.pydata.org/pandas-docs/stable/user_guide/indexing.html#returning-a-view-versus-a-copy\n",
            "  # This is added back by InteractiveShellApp.init_path()\n"
          ],
          "name": "stderr"
        }
      ]
    },
    {
      "cell_type": "code",
      "metadata": {
        "id": "DBCEWEAgNbaP",
        "colab_type": "code",
        "colab": {
          "base_uri": "https://localhost:8080/",
          "height": 343
        },
        "outputId": "3ec7ff2f-8414-46ce-d624-8ff992895f6d"
      },
      "source": [
        "# Anonymize Output\n",
        "\n",
        "deleted_patient_id = json_df.drop(columns='patient_id')\n",
        "deleted_PatientID = deleted_patient_id.drop(columns='patientID')\n",
        "\n",
        "deleted_PatientID.head()"
      ],
      "execution_count": 30,
      "outputs": [
        {
          "output_type": "execute_result",
          "data": {
            "text/html": [
              "<div>\n",
              "<style scoped>\n",
              "    .dataframe tbody tr th:only-of-type {\n",
              "        vertical-align: middle;\n",
              "    }\n",
              "\n",
              "    .dataframe tbody tr th {\n",
              "        vertical-align: top;\n",
              "    }\n",
              "\n",
              "    .dataframe thead th {\n",
              "        text-align: right;\n",
              "    }\n",
              "</style>\n",
              "<table border=\"1\" class=\"dataframe\">\n",
              "  <thead>\n",
              "    <tr style=\"text-align: right;\">\n",
              "      <th></th>\n",
              "      <th>age</th>\n",
              "      <th>consent</th>\n",
              "      <th>corona_test</th>\n",
              "      <th>cough_filename</th>\n",
              "      <th>gender</th>\n",
              "      <th>medical_history</th>\n",
              "      <th>patient_reported_symptoms</th>\n",
              "      <th>sampleType</th>\n",
              "      <th>data_t</th>\n",
              "      <th>smoker</th>\n",
              "      <th>video_patient_finder_tip_filename</th>\n",
              "      <th>breathe_filename</th>\n",
              "      <th>patient_smartphone_used_for_data_collection</th>\n",
              "    </tr>\n",
              "  </thead>\n",
              "  <tbody>\n",
              "    <tr>\n",
              "      <th>0</th>\n",
              "      <td>41 - 55</td>\n",
              "      <td>yes</td>\n",
              "      <td>Negative</td>\n",
              "      <td>https://detectnowdatalake.blob.core.windows.ne...</td>\n",
              "      <td>male</td>\n",
              "      <td>Diabetes with complications,</td>\n",
              "      <td>Fever, chills, or sweating,New or worsening co...</td>\n",
              "      <td>study</td>\n",
              "      <td>NaN</td>\n",
              "      <td>NaN</td>\n",
              "      <td>NaN</td>\n",
              "      <td>NaN</td>\n",
              "      <td>NaN</td>\n",
              "    </tr>\n",
              "    <tr>\n",
              "      <th>1</th>\n",
              "      <td>31 - 40</td>\n",
              "      <td>yes</td>\n",
              "      <td>Not Tested</td>\n",
              "      <td>https://detectnowdatalake.blob.core.windows.ne...</td>\n",
              "      <td>female</td>\n",
              "      <td>Disease or conditions that make it harder to c...</td>\n",
              "      <td>New or worsening cough,Sore throat,</td>\n",
              "      <td>study</td>\n",
              "      <td>NaN</td>\n",
              "      <td>NaN</td>\n",
              "      <td>NaN</td>\n",
              "      <td>NaN</td>\n",
              "      <td>NaN</td>\n",
              "    </tr>\n",
              "    <tr>\n",
              "      <th>2</th>\n",
              "      <td>31 - 40</td>\n",
              "      <td>yes</td>\n",
              "      <td>Not Tested</td>\n",
              "      <td>https://detectnowdatalake.blob.core.windows.ne...</td>\n",
              "      <td>male</td>\n",
              "      <td></td>\n",
              "      <td>Fever, chills, or sweating,</td>\n",
              "      <td>study</td>\n",
              "      <td>NaN</td>\n",
              "      <td>NaN</td>\n",
              "      <td>NaN</td>\n",
              "      <td>NaN</td>\n",
              "      <td>NaN</td>\n",
              "    </tr>\n",
              "    <tr>\n",
              "      <th>3</th>\n",
              "      <td>18 - 30</td>\n",
              "      <td>yes</td>\n",
              "      <td>Not Tested</td>\n",
              "      <td>https://detectnowdatalake.blob.core.windows.ne...</td>\n",
              "      <td>male</td>\n",
              "      <td></td>\n",
              "      <td></td>\n",
              "      <td>guest</td>\n",
              "      <td>NaN</td>\n",
              "      <td>NaN</td>\n",
              "      <td>NaN</td>\n",
              "      <td>NaN</td>\n",
              "      <td>NaN</td>\n",
              "    </tr>\n",
              "    <tr>\n",
              "      <th>4</th>\n",
              "      <td>31 - 40</td>\n",
              "      <td>yes</td>\n",
              "      <td>Not Tested</td>\n",
              "      <td>https://detectnowdatalake.blob.core.windows.ne...</td>\n",
              "      <td>male</td>\n",
              "      <td></td>\n",
              "      <td>New or worsening cough,Loss of taste,Loss of s...</td>\n",
              "      <td>study</td>\n",
              "      <td>NaN</td>\n",
              "      <td>NaN</td>\n",
              "      <td>NaN</td>\n",
              "      <td>NaN</td>\n",
              "      <td>NaN</td>\n",
              "    </tr>\n",
              "  </tbody>\n",
              "</table>\n",
              "</div>"
            ],
            "text/plain": [
              "       age consent  ... breathe_filename patient_smartphone_used_for_data_collection\n",
              "0  41 - 55     yes  ...              NaN                                         NaN\n",
              "1  31 - 40     yes  ...              NaN                                         NaN\n",
              "2  31 - 40     yes  ...              NaN                                         NaN\n",
              "3  18 - 30     yes  ...              NaN                                         NaN\n",
              "4  31 - 40     yes  ...              NaN                                         NaN\n",
              "\n",
              "[5 rows x 13 columns]"
            ]
          },
          "metadata": {
            "tags": []
          },
          "execution_count": 30
        }
      ]
    },
    {
      "cell_type": "code",
      "metadata": {
        "id": "2hH_nVncO8I8",
        "colab_type": "code",
        "outputId": "977fdb4b-b277-4e16-b2eb-bb0dd352680a",
        "colab": {
          "base_uri": "https://localhost:8080/",
          "height": 34
        }
      },
      "source": [
        "# Count the Percentage of Correctly Matched\n",
        "#counter = 0\n",
        "#for result in deleted_PatientID['corona_test']:\n",
        "# if result[-1].isupper():\n",
        "#    counter += 1\n",
        "\n",
        "\n",
        "\n",
        "print('The percentage of correctly mapped raw files is: ', round(match_counter/len(raw_df['patient_id']) * 100. ,2) , '%') "
      ],
      "execution_count": 33,
      "outputs": [
        {
          "output_type": "stream",
          "text": [
            "The percentage of correctly mapped raw files is:  44.44 %\n"
          ],
          "name": "stdout"
        }
      ]
    },
    {
      "cell_type": "code",
      "metadata": {
        "id": "7jxsv0NxDZgD",
        "colab_type": "code",
        "colab": {}
      },
      "source": [
        "# Store as a .csv\n",
        "filename = 'output-04-15-2020-1.csv'\n",
        "deleted_PatientID.to_csv('/content/drive/My Drive/patient-test-results/curated-outputs/' + filename )"
      ],
      "execution_count": 0,
      "outputs": []
    }
  ]
}